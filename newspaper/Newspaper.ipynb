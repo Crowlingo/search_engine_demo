{
 "cells": [
  {
   "cell_type": "code",
   "execution_count": 6,
   "metadata": {
    "collapsed": true
   },
   "outputs": [],
   "source": [
    "import newspaper\n",
    "from PyCrowlingo import Client\n",
    "from PyCrowlingo.Errors import ModelNotFound\n",
    "from tqdm import tqdm\n"
   ]
  },
  {
   "cell_type": "code",
   "execution_count": 7,
   "outputs": [],
   "source": [
    "client = Client(\"<TOKEN>\")\n",
    "\n",
    "model_id = \"newspaper_search_engine\"\n",
    "batch_size = 5\n"
   ],
   "metadata": {
    "collapsed": false,
    "pycharm": {
     "name": "#%%\n"
    }
   }
  },
  {
   "cell_type": "code",
   "execution_count": 8,
   "outputs": [
    {
     "data": {
      "text/plain": "Create(model_id='W4bGKufu:')"
     },
     "execution_count": 8,
     "metadata": {},
     "output_type": "execute_result"
    }
   ],
   "source": [
    "try:\n",
    "    client.model.delete(model_id)\n",
    "except ModelNotFound as e:\n",
    "    print(e)\n",
    "client.model.create(model_id, \"search_engine\")\n"
   ],
   "metadata": {
    "collapsed": false,
    "pycharm": {
     "name": "#%%\n"
    }
   }
  },
  {
   "cell_type": "code",
   "execution_count": 9,
   "outputs": [
    {
     "name": "stderr",
     "output_type": "stream",
     "text": [
      "0it [00:00, ?it/s]"
     ]
    },
    {
     "name": "stdout",
     "output_type": "stream",
     "text": [
      "Analyze https://lemonde.fr\n"
     ]
    },
    {
     "name": "stderr",
     "output_type": "stream",
     "text": [
      "250it [01:27,  2.86it/s]\n",
      "0it [00:00, ?it/s]"
     ]
    },
    {
     "name": "stdout",
     "output_type": "stream",
     "text": [
      "Analyze https://bbc.com\n"
     ]
    },
    {
     "name": "stderr",
     "output_type": "stream",
     "text": [
      "250it [01:38,  2.54it/s]\n"
     ]
    }
   ],
   "source": [
    "for url in [\"https://lemonde.fr\", \"https://bbc.com\"]:\n",
    "    np = newspaper.build(url, memoize_articles=False)\n",
    "    docs = []\n",
    "    print(f\"Analyze {url}\")\n",
    "    for i, article in tqdm(enumerate(np.articles[:250])):\n",
    "        try:\n",
    "            article.download()\n",
    "            article.parse()\n",
    "        except:\n",
    "            pass\n",
    "        # print(f\"Index {url} - {i}: {article.title}\")\n",
    "        docs.append({\"text\": f\"{article.title}\\n {article.text}\"})\n",
    "        if len(docs) >= batch_size:\n",
    "            client.search_engine.create_documents(model_id, docs, light=True)\n",
    "            docs = []\n",
    "    client.search_engine.create_documents(model_id, docs)"
   ],
   "metadata": {
    "collapsed": false,
    "pycharm": {
     "name": "#%%\n"
    }
   }
  },
  {
   "cell_type": "code",
   "execution_count": 10,
   "outputs": [
    {
     "name": "stderr",
     "output_type": "stream",
     "text": [
      "100%|██████████| 5/5 [00:03<00:00,  1.60it/s]\n"
     ]
    },
    {
     "data": {
      "text/plain": "{'fr': 232,\n 'en': 239,\n 'ky': 4,\n 'my': 3,\n 'rw': 4,\n 'so': 1,\n 'ps': 3,\n 'si': 1,\n 'sw': 3}"
     },
     "execution_count": 10,
     "metadata": {},
     "output_type": "execute_result"
    }
   ],
   "source": [
    "client.search_engine.wait_indexing(model_id)"
   ],
   "metadata": {
    "collapsed": false,
    "pycharm": {
     "name": "#%%\n"
    }
   }
  },
  {
   "cell_type": "code",
   "execution_count": 13,
   "outputs": [
    {
     "data": {
      "text/plain": "Search(keywords={'en': [{'weight': 0.9999997615814351, 'text': 'attack'}, {'weight': 0.749232386551185, 'text': 'combat'}], 'fr': [{'weight': 0.8971693225711341, 'text': 'attaque'}, {'weight': 0.8526222905974379, 'text': 'attaques'}]})"
     },
     "execution_count": 13,
     "metadata": {},
     "output_type": "execute_result"
    }
   ],
   "source": [
    "client.search_engine.search(model_id, \"attack\", limit=2, languages=[\"en\", \"fr\"])"
   ],
   "metadata": {
    "collapsed": false,
    "pycharm": {
     "name": "#%%\n"
    }
   }
  }
 ],
 "metadata": {
  "kernelspec": {
   "display_name": "Python 3",
   "language": "python",
   "name": "python3"
  },
  "language_info": {
   "codemirror_mode": {
    "name": "ipython",
    "version": 2
   },
   "file_extension": ".py",
   "mimetype": "text/x-python",
   "name": "python",
   "nbconvert_exporter": "python",
   "pygments_lexer": "ipython2",
   "version": "2.7.6"
  }
 },
 "nbformat": 4,
 "nbformat_minor": 0
}